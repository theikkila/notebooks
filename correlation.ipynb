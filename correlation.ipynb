{
 "cells": [
  {
   "cell_type": "code",
   "execution_count": 113,
   "metadata": {},
   "outputs": [],
   "source": [
    "import struct\n",
    "import random\n",
    "import scipy.stats\n",
    "import numpy as np\n",
    "from matplotlib import pyplot"
   ]
  },
  {
   "cell_type": "code",
   "execution_count": 241,
   "metadata": {},
   "outputs": [],
   "source": [
    "VARIABLE_N = 3 # three variables, temp, dir and power\n",
    "SAMPLE_N = 10 # Samples\n",
    "MEAS_VEC_LEN = 56 # how many bits there is in message\n",
    "def gen_state(temp, direction, power_off):\n",
    "    state = (\n",
    "        # temperature int32 as tens of celsius\n",
    "        temp,\n",
    "        # direction (up or down) (int8)\n",
    "        direction,\n",
    "        # error check in protocol (temp xor direction)\n",
    "        temp ^ direction,\n",
    "        # power_off/on (single bit)\n",
    "        power_off\n",
    "    )\n",
    "    b = struct.pack('!hhh?', *state)\n",
    "    k = ''.join(format(byte, '08b') for byte in b)\n",
    "    return k"
   ]
  },
  {
   "cell_type": "code",
   "execution_count": null,
   "metadata": {},
   "outputs": [],
   "source": []
  },
  {
   "cell_type": "code",
   "execution_count": 242,
   "metadata": {},
   "outputs": [
    {
     "name": "stdout",
     "output_type": "stream",
     "text": [
      "00000000101111000000000000001010000000001011011000000000\n",
      "00000000101010100000000000001010000000001010000000000000\n",
      "00000001000100010000000000010100000000010000010100000000\n",
      "00000000110000000000000000010100000000001101010000000001\n",
      "00000000101111110000000000010100000000001010101100000001\n",
      "00000000101001010000000000001010000000001010111100000000\n",
      "00000000100000100000000000001010000000001000100000000001\n",
      "00000001000101010000000000001010000000010001111100000000\n",
      "00000000100000100000000000001010000000001000100000000001\n",
      "00000001000110000000000000001010000000010001001000000000\n"
     ]
    }
   ],
   "source": [
    "arr = {}\n",
    "temps = []\n",
    "dirs = []\n",
    "poffs = []\n",
    "messages = np.zeros((MEAS_VEC_LEN, SAMPLE_N))\n",
    "for s in range(SAMPLE_N):\n",
    "    temp=random.randint(80, 280)\n",
    "    direction=10 if random.random() < 0.5 else 20\n",
    "    power_off=random.random() < 0.5\n",
    "    temps.append(temp)\n",
    "    dirs.append(direction)\n",
    "    poffs.append(power_off)\n",
    "    \n",
    "    k = gen_state(temp, direction, power_off)\n",
    "    for idx, b in enumerate(k):\n",
    "        messages[idx, s] = int(b)\n",
    "    print(k)"
   ]
  },
  {
   "cell_type": "code",
   "execution_count": 249,
   "metadata": {},
   "outputs": [],
   "source": [
    "\n",
    "messages_n = np.apply_along_axis(lambda m: np.convolve(m, [1], mode='same'), axis=0, arr=messages)"
   ]
  },
  {
   "cell_type": "code",
   "execution_count": 250,
   "metadata": {},
   "outputs": [
    {
     "data": {
      "text/plain": [
       "(56, 10)"
      ]
     },
     "execution_count": 250,
     "metadata": {},
     "output_type": "execute_result"
    }
   ],
   "source": [
    "messages_n.shape"
   ]
  },
  {
   "cell_type": "code",
   "execution_count": 251,
   "metadata": {},
   "outputs": [],
   "source": [
    "correlations = np.zeros((VARIABLE_N, MEAS_VEC_LEN))\n",
    "for idx in range(MEAS_VEC_LEN):\n",
    "    bits = messages_n[idx]\n",
    "    temp_correlation, _ = scipy.stats.pearsonr(bits, temps)\n",
    "    dir_correlation, _ = scipy.stats.pearsonr(bits, dirs)\n",
    "    poff_correlation, _ = scipy.stats.pearsonr(bits, poffs)\n",
    "    #print(correlations[:, idx], idx)\n",
    "    correlations[:, idx] = np.array([temp_correlation, dir_correlation, poff_correlation])\n",
    "    #print(temp_correlation, dir_correlation, poff_correlation)"
   ]
  },
  {
   "cell_type": "code",
   "execution_count": 252,
   "metadata": {},
   "outputs": [
    {
     "data": {
      "text/plain": [
       "array([[       nan,        nan,        nan,        nan,        nan,\n",
       "               nan,        nan, 0.92311894, 0.92311894, 0.04635236,\n",
       "        0.31522184, 0.77213268, 0.11428659, 0.08440775, 0.66256345,\n",
       "        0.4018705 ,        nan,        nan,        nan,        nan,\n",
       "               nan,        nan,        nan,        nan,        nan,\n",
       "               nan,        nan, 0.2283841 , 0.2283841 , 0.2283841 ,\n",
       "        0.2283841 ,        nan,        nan,        nan,        nan,\n",
       "               nan,        nan,        nan,        nan, 0.92311894,\n",
       "        0.92311894, 0.04635236, 0.31522184, 0.51765104, 0.38423664,\n",
       "        0.35496147, 0.37691785, 0.4018705 ,        nan,        nan,\n",
       "               nan,        nan,        nan,        nan,        nan,\n",
       "        0.58039662],\n",
       "       [       nan,        nan,        nan,        nan,        nan,\n",
       "               nan,        nan, 0.04761905, 0.04761905, 0.50917508,\n",
       "        0.08908708, 0.21821789, 0.08908708, 0.08908708, 0.08908708,\n",
       "        0.35634832,        nan,        nan,        nan,        nan,\n",
       "               nan,        nan,        nan,        nan,        nan,\n",
       "               nan,        nan, 1.        , 1.        , 1.        ,\n",
       "        1.        ,        nan,        nan,        nan,        nan,\n",
       "               nan,        nan,        nan,        nan, 0.04761905,\n",
       "        0.04761905, 0.50917508, 0.08908708, 0.08908708, 0.21821789,\n",
       "        0.21821789, 0.21821789, 0.35634832,        nan,        nan,\n",
       "               nan,        nan,        nan,        nan,        nan,\n",
       "        0.35634832],\n",
       "       [       nan,        nan,        nan,        nan,        nan,\n",
       "               nan,        nan, 0.53452248, 0.53452248, 0.40824829,\n",
       "        0.25      , 0.40824829, 0.25      , 0.25      , 0.58333333,\n",
       "        0.25      ,        nan,        nan,        nan,        nan,\n",
       "               nan,        nan,        nan,        nan,        nan,\n",
       "               nan,        nan, 0.35634832, 0.35634832, 0.35634832,\n",
       "        0.35634832,        nan,        nan,        nan,        nan,\n",
       "               nan,        nan,        nan,        nan, 0.53452248,\n",
       "        0.53452248, 0.40824829, 0.25      , 0.25      , 0.40824829,\n",
       "        0.40824829, 0.40824829, 0.25      ,        nan,        nan,\n",
       "               nan,        nan,        nan,        nan,        nan,\n",
       "        1.        ]])"
      ]
     },
     "execution_count": 252,
     "metadata": {},
     "output_type": "execute_result"
    }
   ],
   "source": [
    "np.abs(correlations)"
   ]
  },
  {
   "cell_type": "code",
   "execution_count": 253,
   "metadata": {},
   "outputs": [
    {
     "data": {
      "text/plain": [
       "<matplotlib.image.AxesImage at 0x13da318e0>"
      ]
     },
     "execution_count": 253,
     "metadata": {},
     "output_type": "execute_result"
    },
    {
     "data": {
      "image/png": "[encoded data removed]",
      "text/plain": [
       "<Figure size 1152x144 with 1 Axes>"
      ]
     },
     "metadata": {
      "needs_background": "light"
     },
     "output_type": "display_data"
    }
   ],
   "source": [
    "pyplot.matshow(np.abs(correlations))"
   ]
  },
  {
   "cell_type": "code",
   "execution_count": 254,
   "metadata": {},
   "outputs": [
    {
     "data": {
      "text/plain": [
       "<Figure size 432x288 with 0 Axes>"
      ]
     },
     "metadata": {},
     "output_type": "display_data"
    }
   ],
   "source": [
    "pyplot.set_cmap('plasma')"
   ]
  },
  {
   "cell_type": "code",
   "execution_count": null,
   "metadata": {},
   "outputs": [],
   "source": []
  },
  {
   "cell_type": "code",
   "execution_count": null,
   "metadata": {},
   "outputs": [],
   "source": []
  }
 ],
 "metadata": {
  "kernelspec": {
   "display_name": "Python 3",
   "language": "python",
   "name": "python3"
  },
  "language_info": {
   "codemirror_mode": {
    "name": "ipython",
    "version": 3
   },
   "file_extension": ".py",
   "mimetype": "text/x-python",
   "name": "python",
   "nbconvert_exporter": "python",
   "pygments_lexer": "ipython3",
   "version": "3.8.5"
  }
 },
 "nbformat": 4,
 "nbformat_minor": 4
}
